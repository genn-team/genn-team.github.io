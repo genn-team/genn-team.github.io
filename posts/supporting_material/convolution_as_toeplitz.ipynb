{
 "cells": [
  {
   "cell_type": "code",
   "execution_count": null,
   "id": "d1437d5c",
   "metadata": {},
   "outputs": [],
   "source": []
  },
  {
   "cell_type": "code",
   "execution_count": 39,
   "id": "355497e3",
   "metadata": {},
   "outputs": [
    {
     "name": "stdout",
     "output_type": "stream",
     "text": [
      "padded kernel= \n",
      " [[40 30  0  0]\n",
      " [20 10  0  0]\n",
      " [ 0  0  0  0]]\n",
      "Toeplitz list= \n",
      " [array([[40.,  0.,  0.],\n",
      "       [30., 40.,  0.],\n",
      "       [ 0., 30., 40.],\n",
      "       [ 0.,  0., 30.]]), array([[20.,  0.,  0.],\n",
      "       [10., 20.,  0.],\n",
      "       [ 0., 10., 20.],\n",
      "       [ 0.,  0., 10.]]), array([[0., 0., 0.],\n",
      "       [0., 0., 0.],\n",
      "       [0., 0., 0.],\n",
      "       [0., 0., 0.]])]\n",
      "doubly_indices= \n",
      " [[0 2]\n",
      " [1 0]\n",
      " [2 1]]\n",
      "Toeplitz matrix= \n",
      " [[40.  0.  0.  0.  0.  0.]\n",
      " [30. 40.  0.  0.  0.  0.]\n",
      " [ 0. 30. 40.  0.  0.  0.]\n",
      " [ 0.  0. 30.  0.  0.  0.]\n",
      " [20.  0.  0. 40.  0.  0.]\n",
      " [10. 20.  0. 30. 40.  0.]\n",
      " [ 0. 10. 20.  0. 30. 40.]\n",
      " [ 0.  0. 10.  0.  0. 30.]\n",
      " [ 0.  0.  0. 20.  0.  0.]\n",
      " [ 0.  0.  0. 10. 20.  0.]\n",
      " [ 0.  0.  0.  0. 10. 20.]\n",
      " [ 0.  0.  0.  0.  0. 10.]]\n",
      "I_col=  [1 2 3 4 5 6]\n",
      "R as vector= \n",
      " [ 40. 110. 180.  90. 180. 370. 470. 210.  80. 140. 170.  60.]\n",
      "R as matrix= \n",
      " [[ 40. 110. 180.  90.]\n",
      " [180. 370. 470. 210.]\n",
      " [ 80. 140. 170.  60.]]\n"
     ]
    }
   ],
   "source": [
    "import numpy as np\n",
    "from scipy.linalg import toeplitz\n",
    "\n",
    "def convolution(I, K, verbose= False):\n",
    "    # flip the kernel\n",
    "    K= np.fliplr(np.flipud(K))\n",
    "    # calculate sizes\n",
    "    K_row_num, K_col_num= K.shape\n",
    "    I_row_num, I_col_num= I.shape\n",
    "    R_row_num= K_row_num+I_row_num-1\n",
    "    R_col_num= K_col_num+I_col_num-1\n",
    "    # pad the kernel\n",
    "    K_pad= np.pad(K, ((0,R_row_num - K_row_num),\n",
    "                      (0,R_col_num - K_col_num)), \n",
    "                  'constant', constant_values= 0)\n",
    "    if verbose:\n",
    "        print(\"padded kernel= \\n\", K_pad)\n",
    "    # Assemble the list of Toeplitz matrices F_i\n",
    "    toeplitz_list= []\n",
    "    for i in range(R_row_num):\n",
    "        c= K_pad[i,:]\n",
    "        r= np.r_[c[0],np.zeros(I_col_num-1)]\n",
    "        toeplitz_list.append(toeplitz(c,r).copy())\n",
    "    if verbose:\n",
    "        print(\"Toeplitz list= \\n\", toeplitz_list)\n",
    "    # make a matrix with the indices of the block F_i \n",
    "    # of the doubly blocked Toeplitz matrix\n",
    "    c = np.array(range(R_row_num))\n",
    "    r = np.r_[c[0], c[-1:1:-1]]\n",
    "    doubly_indices = np.array(toeplitz(c,r).copy())\n",
    "    if verbose:\n",
    "        print(\"doubly_indices= \\n\", doubly_indices)\n",
    "    # assemble the doubly blocked toeplitz matrix\n",
    "    toeplitz_m= []\n",
    "    for i in range(R_row_num):\n",
    "        row= []\n",
    "        for j in range(I_row_num):\n",
    "            row.append(toeplitz_list[doubly_indices[i,j]])\n",
    "        row=np.hstack(row)\n",
    "        toeplitz_m.append(row)\n",
    "    toeplitz_m= np.vstack(toeplitz_m)\n",
    "    if verbose:\n",
    "        print(\"Toeplitz matrix= \\n\",toeplitz_m)\n",
    "    # make layer into column vector\n",
    "    I_col= I.flatten()\n",
    "    if verbose:\n",
    "        print(\"I_col= \", I_col)\n",
    "    R = np.matmul(toeplitz_m, I_col)\n",
    "    if verbose:\n",
    "        print('R as vector= \\n', R)\n",
    "    R= R.reshape(R_row_num, R_col_num)\n",
    "    if verbose: \n",
    "        print('R as matrix= \\n', R)\n",
    "    return R\n",
    "\n",
    "# kernel\n",
    "K= np.array([[10,20],[30,40]])\n",
    "# layer\n",
    "I= np.array([[1,2,3],[4,5,6]])\n",
    "R= convolution(I, K, verbose= True)"
   ]
  },
  {
   "cell_type": "code",
   "execution_count": 41,
   "id": "5280d845",
   "metadata": {},
   "outputs": [
    {
     "name": "stdout",
     "output_type": "stream",
     "text": [
      "R= \n",
      " [[ 10.  40.  70.  60.]\n",
      " [ 70. 230. 330. 240.]\n",
      " [120. 310. 380. 240.]]\n"
     ]
    }
   ],
   "source": [
    "# kernel\n",
    "K= np.array([[40,30],[20,10]])\n",
    "# layer\n",
    "I= np.array([[1,2,3],[4,5,6]])\n",
    "R= convolution(I, K, verbose= False)\n",
    "print(\"R= \\n\", R)"
   ]
  },
  {
   "cell_type": "code",
   "execution_count": null,
   "id": "b3450b1a",
   "metadata": {},
   "outputs": [],
   "source": []
  }
 ],
 "metadata": {
  "kernelspec": {
   "display_name": "Python 3 (ipykernel)",
   "language": "python",
   "name": "python3"
  },
  "language_info": {
   "codemirror_mode": {
    "name": "ipython",
    "version": 3
   },
   "file_extension": ".py",
   "mimetype": "text/x-python",
   "name": "python",
   "nbconvert_exporter": "python",
   "pygments_lexer": "ipython3",
   "version": "3.9.8"
  }
 },
 "nbformat": 4,
 "nbformat_minor": 5
}
